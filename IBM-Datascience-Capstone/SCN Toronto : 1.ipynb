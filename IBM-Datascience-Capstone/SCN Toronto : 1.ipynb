{
    "cells": [
        {
            "cell_type": "markdown",
            "metadata": {
                "collapsed": true
            },
            "source": "\nCapstone project - week 3: Segmenting and Clustering Toronto"
        },
        {
            "cell_type": "code",
            "execution_count": 1,
            "metadata": {},
            "outputs": [],
            "source": "import urllib.request\nfrom bs4 import BeautifulSoup\nimport pandas as pd"
        },
        {
            "cell_type": "code",
            "execution_count": 4,
            "metadata": {},
            "outputs": [],
            "source": "\nurl = \"https://en.wikipedia.org/wiki/List_of_postal_codes_of_Canada:_M\"\nreq = urllib.request.urlopen(url)\narticle = req.read().decode()"
        },
        {
            "cell_type": "code",
            "execution_count": 5,
            "metadata": {},
            "outputs": [],
            "source": "\nsoup = BeautifulSoup(article, 'html.parser')\ntable = soup.find('table', class_='sortable')"
        },
        {
            "cell_type": "code",
            "execution_count": 6,
            "metadata": {},
            "outputs": [
                {
                    "data": {
                        "text/html": "<div>\n<style scoped>\n    .dataframe tbody tr th:only-of-type {\n        vertical-align: middle;\n    }\n\n    .dataframe tbody tr th {\n        vertical-align: top;\n    }\n\n    .dataframe thead th {\n        text-align: right;\n    }\n</style>\n<table border=\"1\" class=\"dataframe\">\n  <thead>\n    <tr style=\"text-align: right;\">\n      <th></th>\n      <th>Postal code</th>\n      <th>Borough</th>\n      <th>Neighborhood</th>\n      <th>Neighbourhood</th>\n      <th>Postcode</th>\n    </tr>\n  </thead>\n  <tbody>\n    <tr>\n      <th>0</th>\n      <td>NaN</td>\n      <td>North York</td>\n      <td>NaN</td>\n      <td>Parkwoods</td>\n      <td>M3A</td>\n    </tr>\n    <tr>\n      <th>1</th>\n      <td>NaN</td>\n      <td>North York</td>\n      <td>NaN</td>\n      <td>Victoria Village</td>\n      <td>M4A</td>\n    </tr>\n    <tr>\n      <th>2</th>\n      <td>NaN</td>\n      <td>Downtown Toronto</td>\n      <td>NaN</td>\n      <td>Regent Park / Harbourfront</td>\n      <td>M5A</td>\n    </tr>\n    <tr>\n      <th>3</th>\n      <td>NaN</td>\n      <td>North York</td>\n      <td>NaN</td>\n      <td>Lawrence Manor / Lawrence Heights</td>\n      <td>M6A</td>\n    </tr>\n    <tr>\n      <th>4</th>\n      <td>NaN</td>\n      <td>Downtown Toronto</td>\n      <td>NaN</td>\n      <td>Queen's Park / Ontario Provincial Government</td>\n      <td>M7A</td>\n    </tr>\n  </tbody>\n</table>\n</div>",
                        "text/plain": "  Postal code           Borough Neighborhood  \\\n0         NaN        North York          NaN   \n1         NaN        North York          NaN   \n2         NaN  Downtown Toronto          NaN   \n3         NaN        North York          NaN   \n4         NaN  Downtown Toronto          NaN   \n\n                                  Neighbourhood Postcode  \n0                                     Parkwoods      M3A  \n1                              Victoria Village      M4A  \n2                    Regent Park / Harbourfront      M5A  \n3             Lawrence Manor / Lawrence Heights      M6A  \n4  Queen's Park / Ontario Provincial Government      M7A  "
                    },
                    "execution_count": 6,
                    "metadata": {},
                    "output_type": "execute_result"
                }
            ],
            "source": "\n#headings\nths = table.find_all('th')\nheadings = [th.text.strip() for th in ths]\n\n#create dataframe\nneighbourhoods = pd.DataFrame(columns=headings)\nneighbourhoods\n\n# scrape rows into dataframe\nfor tr in table.find_all('tr'):\n    tds = tr.find_all('td')\n    if not tds:\n        continue                            #skips first row with headings\n    pc, b, n = [td.text.strip() for td in tds]\n    if b!=\"Not assigned\":\n        neighbourhoods = neighbourhoods.append({'Postcode': pc, 'Borough': b, 'Neighbourhood': n}, ignore_index=True)\n\nneighbourhoods.head()"
        },
        {
            "cell_type": "code",
            "execution_count": 7,
            "metadata": {},
            "outputs": [
                {
                    "data": {
                        "text/html": "<div>\n<style scoped>\n    .dataframe tbody tr th:only-of-type {\n        vertical-align: middle;\n    }\n\n    .dataframe tbody tr th {\n        vertical-align: top;\n    }\n\n    .dataframe thead th {\n        text-align: right;\n    }\n</style>\n<table border=\"1\" class=\"dataframe\">\n  <thead>\n    <tr style=\"text-align: right;\">\n      <th></th>\n      <th>Postal code</th>\n      <th>Borough</th>\n      <th>Neighborhood</th>\n      <th>Neighbourhood</th>\n      <th>Postcode</th>\n    </tr>\n  </thead>\n  <tbody>\n    <tr>\n      <th>0</th>\n      <td>NaN</td>\n      <td>North York</td>\n      <td>NaN</td>\n      <td>Parkwoods</td>\n      <td>M3A</td>\n    </tr>\n    <tr>\n      <th>1</th>\n      <td>NaN</td>\n      <td>North York</td>\n      <td>NaN</td>\n      <td>Victoria Village</td>\n      <td>M4A</td>\n    </tr>\n    <tr>\n      <th>2</th>\n      <td>NaN</td>\n      <td>Downtown Toronto</td>\n      <td>NaN</td>\n      <td>Regent Park / Harbourfront</td>\n      <td>M5A</td>\n    </tr>\n    <tr>\n      <th>3</th>\n      <td>NaN</td>\n      <td>North York</td>\n      <td>NaN</td>\n      <td>Lawrence Manor / Lawrence Heights</td>\n      <td>M6A</td>\n    </tr>\n    <tr>\n      <th>4</th>\n      <td>NaN</td>\n      <td>Downtown Toronto</td>\n      <td>NaN</td>\n      <td>Queen's Park / Ontario Provincial Government</td>\n      <td>M7A</td>\n    </tr>\n  </tbody>\n</table>\n</div>",
                        "text/plain": "  Postal code           Borough Neighborhood  \\\n0         NaN        North York          NaN   \n1         NaN        North York          NaN   \n2         NaN  Downtown Toronto          NaN   \n3         NaN        North York          NaN   \n4         NaN  Downtown Toronto          NaN   \n\n                                  Neighbourhood Postcode  \n0                                     Parkwoods      M3A  \n1                              Victoria Village      M4A  \n2                    Regent Park / Harbourfront      M5A  \n3             Lawrence Manor / Lawrence Heights      M6A  \n4  Queen's Park / Ontario Provincial Government      M7A  "
                    },
                    "execution_count": 7,
                    "metadata": {},
                    "output_type": "execute_result"
                }
            ],
            "source": "\nneighbourhoods['Neighbourhood'] = neighbourhoods.groupby('Postcode')['Neighbourhood'].transform(lambda x: \"%s\" % ', '.join(x)).values\nneighbourhoods = neighbourhoods.drop_duplicates().reset_index(drop=True)\nneighbourhoods.head()"
        },
        {
            "cell_type": "code",
            "execution_count": null,
            "metadata": {},
            "outputs": [],
            "source": ""
        }
    ],
    "metadata": {
        "kernelspec": {
            "display_name": "Python 3.6",
            "language": "python",
            "name": "python3"
        },
        "language_info": {
            "codemirror_mode": {
                "name": "ipython",
                "version": 3
            },
            "file_extension": ".py",
            "mimetype": "text/x-python",
            "name": "python",
            "nbconvert_exporter": "python",
            "pygments_lexer": "ipython3",
            "version": "3.6.9"
        }
    },
    "nbformat": 4,
    "nbformat_minor": 1
}